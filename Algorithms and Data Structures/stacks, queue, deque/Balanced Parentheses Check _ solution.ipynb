{
 "cells": [
  {
   "cell_type": "code",
   "execution_count": 69,
   "metadata": {},
   "outputs": [],
   "source": [
    "def Balanced_check(s):\n",
    "    \n",
    "    # check if string is even , if not return false \n",
    "    if len(s)%2 == 0:\n",
    "        return False\n",
    "    \n",
    "    # set of opening paren\n",
    "    opening = set('[','(','{')\n",
    "    \n",
    "    # this is what we will use to check if pairs are match at end \n",
    "    match = ([('(',')'), ('[',']'), ('{','}')])\n",
    "    \n",
    "    # gonna use list as stack \n",
    "    stack = []\n",
    "    \n",
    "    \n",
    "    for paren in s:\n",
    "        \n",
    "        if paren in opening:  # if in opening add to stack\n",
    "            s.append(paren)\n",
    "            \n",
    "        else:               \n",
    "            last_open = stack.pop()\n",
    "            \n",
    "            if len(stack) == 0:       # if len of stack is 0 then there is no match return false\n",
    "                return False\n",
    "            \n",
    "            if(last_open,paren) not in matches:\n",
    "                return False\n",
    "    \n",
    "    \n",
    "    return len(stack) == 0\n",
    "    "
   ]
  },
  {
   "cell_type": "code",
   "execution_count": 70,
   "metadata": {},
   "outputs": [
    {
     "data": {
      "text/plain": [
       "False"
      ]
     },
     "execution_count": 70,
     "metadata": {},
     "output_type": "execute_result"
    }
   ],
   "source": [
    "balance_check('()(){]}')"
   ]
  },
  {
   "cell_type": "code",
   "execution_count": 71,
   "metadata": {},
   "outputs": [
    {
     "data": {
      "text/plain": [
       "True"
      ]
     },
     "execution_count": 71,
     "metadata": {},
     "output_type": "execute_result"
    }
   ],
   "source": [
    "balance_check('[](){([[[]]])}')"
   ]
  },
  {
   "cell_type": "code",
   "execution_count": 72,
   "metadata": {},
   "outputs": [
    {
     "data": {
      "text/plain": [
       "True"
      ]
     },
     "execution_count": 72,
     "metadata": {},
     "output_type": "execute_result"
    }
   ],
   "source": [
    "balance_check('[]')"
   ]
  },
  {
   "cell_type": "code",
   "execution_count": null,
   "metadata": {},
   "outputs": [],
   "source": []
  }
 ],
 "metadata": {
  "kernelspec": {
   "display_name": "Python 3",
   "language": "python",
   "name": "python3"
  },
  "language_info": {
   "codemirror_mode": {
    "name": "ipython",
    "version": 3
   },
   "file_extension": ".py",
   "mimetype": "text/x-python",
   "name": "python",
   "nbconvert_exporter": "python",
   "pygments_lexer": "ipython3",
   "version": "3.7.4"
  }
 },
 "nbformat": 4,
 "nbformat_minor": 2
}
